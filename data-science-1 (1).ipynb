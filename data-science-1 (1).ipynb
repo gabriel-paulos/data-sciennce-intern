{
  "nbformat": 4,
  "nbformat_minor": 0,
  "metadata": {
    "colab": {
      "name": "Untitled1.ipynb",
      "provenance": []
    },
    "kernelspec": {
      "name": "python3",
      "display_name": "Python 3"
    },
    "language_info": {
      "name": "python"
    }
  },
  "cells": [
    {
      "cell_type": "code",
      "execution_count": 102,
      "metadata": {
        "id": "tb5wLnzqzO7T"
      },
      "outputs": [],
      "source": [
        "import pandas as pd\n",
        "from google.colab import drive"
      ]
    },
    {
      "cell_type": "code",
      "source": [
        "import matplotlib.pyplot as plt"
      ],
      "metadata": {
        "id": "QknZbp_5LxHA"
      },
      "execution_count": 103,
      "outputs": []
    },
    {
      "cell_type": "markdown",
      "source": [
        "Transferring csv data into pandas Dataframe in order to manipulate the data and calculate the AOV for the shops."
      ],
      "metadata": {
        "id": "s4F50Xbjzk6Q"
      }
    },
    {
      "cell_type": "code",
      "source": [
        "\n",
        "drive.mount('/content/drive')"
      ],
      "metadata": {
        "id": "6I26bv2q0jzl",
        "colab": {
          "base_uri": "https://localhost:8080/"
        },
        "outputId": "62b6fe82-fcc6-49f1-f095-cdb10c1aece3"
      },
      "execution_count": 104,
      "outputs": [
        {
          "output_type": "stream",
          "name": "stdout",
          "text": [
            "Drive already mounted at /content/drive; to attempt to forcibly remount, call drive.mount(\"/content/drive\", force_remount=True).\n"
          ]
        }
      ]
    },
    {
      "cell_type": "code",
      "source": [
        "train = pd.read_csv(\"/content/drive/My Drive/test.csv\")\n",
        "  \n",
        "temp_df = []\n",
        "for row in train.itertuples(index=False):\n",
        "  temp_df.append(list(row))\n",
        "train = pd.DataFrame(temp_df, columns=train.columns)"
      ],
      "metadata": {
        "id": "hSnNDTKa6xik"
      },
      "execution_count": 105,
      "outputs": []
    },
    {
      "cell_type": "code",
      "source": [
        "print(train)"
      ],
      "metadata": {
        "colab": {
          "base_uri": "https://localhost:8080/"
        },
        "id": "6QaeBDQH62X6",
        "outputId": "207cba04-4d65-4a0c-ad7c-cf32e323429f"
      },
      "execution_count": 106,
      "outputs": [
        {
          "output_type": "stream",
          "name": "stdout",
          "text": [
            "      order_id  shop_id  user_id  order_amount  total_items payment_method  \\\n",
            "0            1       53      746           224            2           cash   \n",
            "1            2       92      925            90            1           cash   \n",
            "2            3       44      861           144            1           cash   \n",
            "3            4       18      935           156            1    credit_card   \n",
            "4            5       18      883           156            1    credit_card   \n",
            "...        ...      ...      ...           ...          ...            ...   \n",
            "4995      4996       73      993           330            2          debit   \n",
            "4996      4997       48      789           234            2           cash   \n",
            "4997      4998       56      867           351            3           cash   \n",
            "4998      4999       60      825           354            2    credit_card   \n",
            "4999      5000       44      734           288            2          debit   \n",
            "\n",
            "               created_at  \n",
            "0     2017-03-13 12:36:56  \n",
            "1     2017-03-03 17:38:52  \n",
            "2      2017-03-14 4:23:56  \n",
            "3     2017-03-26 12:43:37  \n",
            "4      2017-03-01 4:35:11  \n",
            "...                   ...  \n",
            "4995  2017-03-30 13:47:17  \n",
            "4996  2017-03-16 20:36:16  \n",
            "4997   2017-03-19 5:42:42  \n",
            "4998  2017-03-16 14:51:18  \n",
            "4999  2017-03-18 15:48:18  \n",
            "\n",
            "[5000 rows x 7 columns]\n"
          ]
        }
      ]
    },
    {
      "cell_type": "markdown",
      "source": [
        "Here we see the different types of all of the columns in the dataframe called train, which holds all of the values of the csv file provided by task. An interesting fact is that the order_amount is type int64 and not type float64. The rest of the columns are the correct type for now."
      ],
      "metadata": {
        "id": "-lAsPt4NtWa9"
      }
    },
    {
      "cell_type": "code",
      "source": [
        "print(train.dtypes)"
      ],
      "metadata": {
        "colab": {
          "base_uri": "https://localhost:8080/"
        },
        "id": "zE9LPg24652r",
        "outputId": "1b6887e1-f38a-4c0a-9145-f929ef1815bd"
      },
      "execution_count": 107,
      "outputs": [
        {
          "output_type": "stream",
          "name": "stdout",
          "text": [
            "order_id           int64\n",
            "shop_id            int64\n",
            "user_id            int64\n",
            "order_amount       int64\n",
            "total_items        int64\n",
            "payment_method    object\n",
            "created_at        object\n",
            "dtype: object\n"
          ]
        }
      ]
    },
    {
      "cell_type": "code",
      "source": [
        "print(train[\"order_amount\"].mean())"
      ],
      "metadata": {
        "colab": {
          "base_uri": "https://localhost:8080/"
        },
        "id": "yir168NL4yco",
        "outputId": "ba7bdd56-2959-431b-a338-3289a96966dc"
      },
      "execution_count": 108,
      "outputs": [
        {
          "output_type": "stream",
          "name": "stdout",
          "text": [
            "3145.128\n"
          ]
        }
      ]
    },
    {
      "cell_type": "markdown",
      "source": [
        "If we calculate the mean order_amount for all purchases made on Shopify we get $3145.13. This is very unreasonable for the average price of an order, especially when considering the 30 day time frame in which this information was collected.\n",
        "\n",
        "Possible reasons for the high mean AOV is that there could be a mistake in the data or there can be duplicates in the data of the largest purchases, shewing the mean."
      ],
      "metadata": {
        "id": "jmhDOao0t-7M"
      }
    },
    {
      "cell_type": "markdown",
      "source": [
        "Below are different values that can be used to summarize the behaviour of an average customer placing an order."
      ],
      "metadata": {
        "id": "-pRqfJhQvLeH"
      }
    },
    {
      "cell_type": "markdown",
      "source": [
        "I will now be looking for duplicates in the data by looking at what time the orders were created."
      ],
      "metadata": {
        "id": "FaBIYhqmz-Tp"
      }
    },
    {
      "cell_type": "code",
      "source": [
        "print(train[\"order_amount\"].describe())"
      ],
      "metadata": {
        "colab": {
          "base_uri": "https://localhost:8080/"
        },
        "id": "77F9z_4o75NH",
        "outputId": "cf4ed731-d9af-4cc7-a3c3-d470a66dcdea"
      },
      "execution_count": 80,
      "outputs": [
        {
          "output_type": "stream",
          "name": "stdout",
          "text": [
            "count      5000.000000\n",
            "mean       3145.128000\n",
            "std       41282.539349\n",
            "min          90.000000\n",
            "25%         163.000000\n",
            "50%         284.000000\n",
            "75%         390.000000\n",
            "max      704000.000000\n",
            "Name: order_amount, dtype: float64\n"
          ]
        }
      ]
    },
    {
      "cell_type": "code",
      "source": [
        "print(train['created_at'].unique().size)"
      ],
      "metadata": {
        "colab": {
          "base_uri": "https://localhost:8080/"
        },
        "id": "wq1eZRo2xhrp",
        "outputId": "8efa0b15-5016-4ac2-965e-ca0dcbe35788"
      },
      "execution_count": 112,
      "outputs": [
        {
          "output_type": "stream",
          "name": "stdout",
          "text": [
            "4991\n"
          ]
        }
      ]
    },
    {
      "cell_type": "code",
      "source": [
        "print(train.sort_values(by=\"order_amount\"))"
      ],
      "metadata": {
        "colab": {
          "base_uri": "https://localhost:8080/"
        },
        "id": "yL97IEZIy0Vl",
        "outputId": "8d479d29-4773-466a-e564-e981657cb2b7"
      },
      "execution_count": 114,
      "outputs": [
        {
          "output_type": "stream",
          "name": "stdout",
          "text": [
            "      order_id  shop_id  user_id  order_amount  total_items payment_method  \\\n",
            "158        159       92      795            90            1    credit_card   \n",
            "3871      3872       92      818            90            1          debit   \n",
            "4760      4761       92      937            90            1          debit   \n",
            "4923      4924       92      965            90            1    credit_card   \n",
            "4932      4933       92      823            90            1    credit_card   \n",
            "...        ...      ...      ...           ...          ...            ...   \n",
            "2153      2154       42      607        704000         2000    credit_card   \n",
            "1562      1563       42      607        704000         2000    credit_card   \n",
            "1362      1363       42      607        704000         2000    credit_card   \n",
            "520        521       42      607        704000         2000    credit_card   \n",
            "3332      3333       42      607        704000         2000    credit_card   \n",
            "\n",
            "              created_at  \n",
            "158   2017-03-29 3:07:12  \n",
            "3871  2017-03-18 9:10:08  \n",
            "4760  2017-03-20 7:37:28  \n",
            "4923  2017-03-09 5:05:11  \n",
            "4932  2017-03-24 2:17:13  \n",
            "...                  ...  \n",
            "2153  2017-03-12 4:00:00  \n",
            "1562  2017-03-19 4:00:00  \n",
            "1362  2017-03-15 4:00:00  \n",
            "520   2017-03-02 4:00:00  \n",
            "3332  2017-03-24 4:00:00  \n",
            "\n",
            "[5000 rows x 7 columns]\n"
          ]
        }
      ]
    },
    {
      "cell_type": "markdown",
      "source": [
        "We can conclude that even though the largest purchases were made by the same person at the same time, they all contain different order_ids, so we can rule out that it is caused by a duplication of data. However, this does not rule out there being a mistake in the order_amount values collected in this data set."
      ],
      "metadata": {
        "id": "JGrE2byyywpU"
      }
    },
    {
      "cell_type": "markdown",
      "source": [
        "Lets us dig deeper by seeing how we can redefine AOV for the data to make it more reasonable."
      ],
      "metadata": {
        "id": "V3HJJGt60MDn"
      }
    },
    {
      "cell_type": "markdown",
      "source": [
        "There are two ways in which we can calculate the AOV for shoes: \n",
        "\n",
        "*   by calculating a shop's total revenue and dividing it by the number of items soldly \n",
        "*  by calculating a customer's total expenditure and dividing it by the number of items they bought \n",
        "\n",
        "I will be testing out both methods in order to find the one that best fits the data and intuition.\n"
      ],
      "metadata": {
        "id": "CbwUkcvWvfO1"
      }
    },
    {
      "cell_type": "markdown",
      "source": [
        "First I will be testing out the mean by calculating a shop's total revenue and dividing it by the number of items soldly"
      ],
      "metadata": {
        "id": "NVTJ17gE0XQf"
      }
    },
    {
      "cell_type": "code",
      "source": [
        "revenue = train.groupby(['shop_id'])['order_amount'].sum()"
      ],
      "metadata": {
        "id": "IWLF7bkBF6qq"
      },
      "execution_count": 122,
      "outputs": []
    },
    {
      "cell_type": "code",
      "source": [
        "items_sold = train.groupby(['shop_id'])['total_items'].sum()"
      ],
      "metadata": {
        "id": "9LkNjS_lJK-f"
      },
      "execution_count": 123,
      "outputs": []
    },
    {
      "cell_type": "code",
      "source": [
        "mean = revenue/items_sold\n",
        "print(mean)"
      ],
      "metadata": {
        "colab": {
          "base_uri": "https://localhost:8080/"
        },
        "id": "Q619jKPYJANQ",
        "outputId": "d8a53400-9e6e-48f5-92f6-cb552108ba17"
      },
      "execution_count": 124,
      "outputs": [
        {
          "output_type": "stream",
          "name": "stdout",
          "text": [
            "shop_id\n",
            "1      158.0\n",
            "2       94.0\n",
            "3      148.0\n",
            "4      128.0\n",
            "5      142.0\n",
            "       ...  \n",
            "96     153.0\n",
            "97     162.0\n",
            "98     133.0\n",
            "99     195.0\n",
            "100    111.0\n",
            "Length: 100, dtype: float64\n"
          ]
        }
      ]
    },
    {
      "cell_type": "code",
      "source": [
        "print(mean.sort_values())"
      ],
      "metadata": {
        "colab": {
          "base_uri": "https://localhost:8080/"
        },
        "id": "gbo2BR8nJT86",
        "outputId": "c1035dff-6f76-45ea-9bbb-8de7c9645bd1"
      },
      "execution_count": 125,
      "outputs": [
        {
          "output_type": "stream",
          "name": "stdout",
          "text": [
            "shop_id\n",
            "92        90.0\n",
            "2         94.0\n",
            "32       101.0\n",
            "100      111.0\n",
            "7        112.0\n",
            "        ...   \n",
            "99       195.0\n",
            "89       196.0\n",
            "12       201.0\n",
            "42       352.0\n",
            "78     25725.0\n",
            "Length: 100, dtype: float64\n"
          ]
        }
      ]
    },
    {
      "cell_type": "markdown",
      "source": [
        "We can see that every shop has a reasonable AOV except for shop 78, which has an AOV about 100x larger than the next highest.\n",
        "\n",
        "I will now be looking at the mean by calculating a customer's total expenditure and dividing it by the number of items they bought, to see if it brings better results."
      ],
      "metadata": {
        "id": "cSO4LhBk0tIX"
      }
    },
    {
      "cell_type": "code",
      "source": [
        "pp = train.groupby(['user_id'])['order_amount'].sum()"
      ],
      "metadata": {
        "id": "OmlsirN6Kxm7"
      },
      "execution_count": 85,
      "outputs": []
    },
    {
      "cell_type": "code",
      "source": [
        "pd = train.groupby(['user_id'])['total_items'].sum()"
      ],
      "metadata": {
        "id": "h7Xi-skZK3ZD"
      },
      "execution_count": 86,
      "outputs": []
    },
    {
      "cell_type": "code",
      "source": [
        "ppl_avg = pp/pd\n",
        "print(ppl_avg.sort_values())"
      ],
      "metadata": {
        "colab": {
          "base_uri": "https://localhost:8080/"
        },
        "id": "iYzqrGceK6pK",
        "outputId": "aac7edff-e890-4578-d7ce-860097711954"
      },
      "execution_count": 87,
      "outputs": [
        {
          "output_type": "stream",
          "name": "stdout",
          "text": [
            "user_id\n",
            "973     127.583333\n",
            "964     135.218750\n",
            "806     135.368421\n",
            "899     136.000000\n",
            "706     136.625000\n",
            "          ...     \n",
            "775    2896.928571\n",
            "855    2996.851852\n",
            "962    3350.333333\n",
            "766    3481.565217\n",
            "878    6539.000000\n",
            "Length: 301, dtype: float64\n"
          ]
        }
      ]
    },
    {
      "cell_type": "code",
      "source": [
        "print(ppl_avg.mean())"
      ],
      "metadata": {
        "colab": {
          "base_uri": "https://localhost:8080/"
        },
        "id": "e533FjgiLJSa",
        "outputId": "e07fd830-101f-491f-a99d-e716ae9ded46"
      },
      "execution_count": 88,
      "outputs": [
        {
          "output_type": "stream",
          "name": "stdout",
          "text": [
            "400.20291584943715\n"
          ]
        }
      ]
    },
    {
      "cell_type": "code",
      "source": [
        "ppl_df = ppl_avg.to_frame()\n",
        "ppl_df.columns = ['AOV']\n",
        "print(ppl_df)"
      ],
      "metadata": {
        "colab": {
          "base_uri": "https://localhost:8080/"
        },
        "id": "wzqX7bLwMnTm",
        "outputId": "4c131d6e-d4ce-445b-e9b9-7bb51e5a5128"
      },
      "execution_count": 119,
      "outputs": [
        {
          "output_type": "stream",
          "name": "stdout",
          "text": [
            "                 AOV\n",
            "user_id             \n",
            "607       352.000000\n",
            "700       159.666667\n",
            "701       151.823529\n",
            "702       155.470588\n",
            "703       148.560976\n",
            "...              ...\n",
            "995       151.885714\n",
            "996       143.567568\n",
            "997      1218.166667\n",
            "998       145.555556\n",
            "999       153.085106\n",
            "\n",
            "[301 rows x 1 columns]\n"
          ]
        }
      ]
    },
    {
      "cell_type": "code",
      "source": [
        "ppl_df.plot()\n",
        "plt.show()"
      ],
      "metadata": {
        "colab": {
          "base_uri": "https://localhost:8080/",
          "height": 280
        },
        "id": "gLteSPvnLf94",
        "outputId": "2eb3012c-dd61-4dae-a67b-3749c7e15377"
      },
      "execution_count": 90,
      "outputs": [
        {
          "output_type": "display_data",
          "data": {
            "text/plain": [
              "<Figure size 432x288 with 1 Axes>"
            ],
            "image/png": "[encoded data removed]"
          },
          "metadata": {
            "needs_background": "light"
          }
        }
      ]
    },
    {
      "cell_type": "markdown",
      "source": [
        "Despite the mean AOV by customer being reasonable at 400, I still have my doubts about this method as there is a huge deviation between the user who has the smallest mean AOV and the largest mean AOV.\n",
        "\n",
        "As such I will return to the AOV of shops and explore the reason for the abnormal values for shop 78.\n"
      ],
      "metadata": {
        "id": "lUYlbUvH1SE0"
      }
    },
    {
      "cell_type": "markdown",
      "source": [
        "Below are all the purchases made in the shop that were collected by the dataset."
      ],
      "metadata": {
        "id": "QVOmrblp2ZlD"
      }
    },
    {
      "cell_type": "code",
      "source": [
        "ff = train[train['shop_id'] == 78]\n",
        "print(ff)"
      ],
      "metadata": {
        "colab": {
          "base_uri": "https://localhost:8080/"
        },
        "id": "mjTg5cLjON55",
        "outputId": "9e255986-ff0d-410e-e8f9-a2f7b95bf99b"
      },
      "execution_count": 91,
      "outputs": [
        {
          "output_type": "stream",
          "name": "stdout",
          "text": [
            "      order_id  shop_id  user_id  order_amount  total_items payment_method  \\\n",
            "160        161       78      990         25725            1    credit_card   \n",
            "490        491       78      936         51450            2          debit   \n",
            "493        494       78      983         51450            2           cash   \n",
            "511        512       78      967         51450            2           cash   \n",
            "617        618       78      760         51450            2           cash   \n",
            "691        692       78      878        154350            6          debit   \n",
            "1056      1057       78      800         25725            1          debit   \n",
            "1193      1194       78      944         25725            1          debit   \n",
            "1204      1205       78      970         25725            1    credit_card   \n",
            "1259      1260       78      775         77175            3    credit_card   \n",
            "1384      1385       78      867         25725            1           cash   \n",
            "1419      1420       78      912         25725            1           cash   \n",
            "1452      1453       78      812         25725            1    credit_card   \n",
            "1529      1530       78      810         51450            2           cash   \n",
            "2270      2271       78      855         25725            1    credit_card   \n",
            "2452      2453       78      709         51450            2           cash   \n",
            "2492      2493       78      834        102900            4          debit   \n",
            "2495      2496       78      707         51450            2           cash   \n",
            "2512      2513       78      935         51450            2          debit   \n",
            "2548      2549       78      861         25725            1           cash   \n",
            "2564      2565       78      915         77175            3          debit   \n",
            "2690      2691       78      962         77175            3          debit   \n",
            "2773      2774       78      890         25725            1           cash   \n",
            "2818      2819       78      869         51450            2          debit   \n",
            "2821      2822       78      814         51450            2           cash   \n",
            "2906      2907       78      817         77175            3          debit   \n",
            "2922      2923       78      740         25725            1          debit   \n",
            "3085      3086       78      910         25725            1           cash   \n",
            "3101      3102       78      855         51450            2    credit_card   \n",
            "3151      3152       78      745         25725            1    credit_card   \n",
            "3167      3168       78      927         51450            2           cash   \n",
            "3403      3404       78      928         77175            3          debit   \n",
            "3440      3441       78      982         25725            1          debit   \n",
            "3705      3706       78      828         51450            2    credit_card   \n",
            "3724      3725       78      766         77175            3    credit_card   \n",
            "3780      3781       78      889         25725            1           cash   \n",
            "4040      4041       78      852         25725            1           cash   \n",
            "4079      4080       78      946         51450            2           cash   \n",
            "4192      4193       78      787         77175            3    credit_card   \n",
            "4311      4312       78      960         51450            2          debit   \n",
            "4412      4413       78      756         51450            2          debit   \n",
            "4420      4421       78      969         77175            3          debit   \n",
            "4505      4506       78      866         25725            1          debit   \n",
            "4584      4585       78      997         25725            1           cash   \n",
            "4715      4716       78      818         77175            3          debit   \n",
            "4918      4919       78      823         25725            1           cash   \n",
            "\n",
            "               created_at  \n",
            "160    2017-03-12 5:56:57  \n",
            "490   2017-03-26 17:08:19  \n",
            "493   2017-03-16 21:39:35  \n",
            "511    2017-03-09 7:23:14  \n",
            "617   2017-03-18 11:18:42  \n",
            "691   2017-03-27 22:51:43  \n",
            "1056  2017-03-15 10:16:45  \n",
            "1193  2017-03-16 16:38:26  \n",
            "1204  2017-03-17 22:32:21  \n",
            "1259   2017-03-27 9:27:20  \n",
            "1384  2017-03-17 16:38:06  \n",
            "1419  2017-03-30 12:23:43  \n",
            "1452  2017-03-17 18:09:54  \n",
            "1529   2017-03-29 7:12:01  \n",
            "2270  2017-03-14 23:58:22  \n",
            "2452  2017-03-27 11:04:04  \n",
            "2492   2017-03-04 4:37:34  \n",
            "2495   2017-03-26 4:38:52  \n",
            "2512  2017-03-18 18:57:13  \n",
            "2548  2017-03-17 19:36:00  \n",
            "2564   2017-03-25 1:19:35  \n",
            "2690   2017-03-22 7:33:25  \n",
            "2773  2017-03-26 10:36:43  \n",
            "2818   2017-03-17 6:25:51  \n",
            "2821  2017-03-02 17:13:25  \n",
            "2906   2017-03-16 3:45:46  \n",
            "2922  2017-03-12 20:10:58  \n",
            "3085   2017-03-26 1:59:27  \n",
            "3101   2017-03-21 5:10:34  \n",
            "3151  2017-03-18 13:13:07  \n",
            "3167  2017-03-12 12:23:08  \n",
            "3403   2017-03-16 9:45:05  \n",
            "3440  2017-03-19 19:02:54  \n",
            "3705  2017-03-14 20:43:15  \n",
            "3724  2017-03-16 14:13:26  \n",
            "3780  2017-03-11 21:14:50  \n",
            "4040  2017-03-02 14:31:12  \n",
            "4079  2017-03-20 21:14:00  \n",
            "4192   2017-03-18 9:25:32  \n",
            "4311   2017-03-01 3:02:10  \n",
            "4412   2017-03-02 4:13:39  \n",
            "4420  2017-03-09 15:21:35  \n",
            "4505  2017-03-22 22:06:01  \n",
            "4584  2017-03-25 21:48:44  \n",
            "4715   2017-03-05 5:10:44  \n",
            "4918  2017-03-15 13:26:46  \n"
          ]
        }
      ]
    },
    {
      "cell_type": "markdown",
      "source": [
        "The problem seems to be that each purchase is in the ten thousands to hundred thousands range, which is far above the purchase values of any shoes in other shops. This leaves two possiblities, either it sells highly exclusive shoes or the prices of the shoes are inputted incorrectly. Considering the store only sells one shoe model, it is highly unlikely that they would limit their customer base by pricing their shoes so that the average order price would be 73x higher at their store than the next highest store by average order price.\n",
        "\n",
        "We can test out the latter possibility by moving the decimal places of the prices. I choose to move the prices by two decimal places to the right, as it is most similar to the rest of the averages we calculated."
      ],
      "metadata": {
        "id": "rH6ukyyNQY2R"
      }
    },
    {
      "cell_type": "code",
      "source": [
        "train.astype({'order_id': 'string', 'shop_id':'string', 'user_id' : 'string', 'order_amount': 'float'}).dtypes\n",
        "\n"
      ],
      "metadata": {
        "colab": {
          "base_uri": "https://localhost:8080/"
        },
        "id": "U9rVRui679el",
        "outputId": "6f7bf284-35e1-4f04-d338-7a72e769a828"
      },
      "execution_count": 78,
      "outputs": [
        {
          "output_type": "execute_result",
          "data": {
            "text/plain": [
              "order_id           string\n",
              "shop_id            string\n",
              "user_id            string\n",
              "order_amount      float64\n",
              "total_items         int64\n",
              "payment_method     object\n",
              "created_at         object\n",
              "dtype: object"
            ]
          },
          "metadata": {},
          "execution_count": 78
        }
      ]
    },
    {
      "cell_type": "markdown",
      "source": [
        "I will be creating a new column: new_order_amount. This will be used to test whether the numbers were inputted incorrectly and see if the AOV of the shop aligns with the other AOVs we previously calculated."
      ],
      "metadata": {
        "id": "QNn-_Yxj2kzy"
      }
    },
    {
      "cell_type": "code",
      "source": [
        "ff=ff.assign(new_order_amount=lambda g: g.order_amount/100)\n",
        "\n"
      ],
      "metadata": {
        "id": "nZaMgRiKQYci"
      },
      "execution_count": 99,
      "outputs": []
    },
    {
      "cell_type": "code",
      "source": [
        "\n",
        "new_total_amount= ff['new_order_amount'].sum()\n",
        "\n",
        "total_items = ff['total_items'].sum()\n",
        "\n",
        "new_avg_amount = new_total_amount/total_items\n",
        "\n",
        "print(new_avg_amount)"
      ],
      "metadata": {
        "colab": {
          "base_uri": "https://localhost:8080/"
        },
        "id": "feaI49gSX4xV",
        "outputId": "642cb4dd-9b48-4bf6-bd07-20296f1c162b"
      },
      "execution_count": 101,
      "outputs": [
        {
          "output_type": "stream",
          "name": "stdout",
          "text": [
            "257.25\n"
          ]
        }
      ]
    },
    {
      "cell_type": "markdown",
      "source": [
        "The new average order price was inline with the rest of the stores on Shopify."
      ],
      "metadata": {
        "id": "y34qxUVDZI-I"
      }
    },
    {
      "cell_type": "code",
      "source": [
        "new_AOV = mean.to_frame()\n",
        "new_AOV.columns = ['AOV']\n",
        "new_AOV['AOV'] = new_AOV['AOV'].replace([25725],new_avg_amount)\n",
        "print(new_AOV)"
      ],
      "metadata": {
        "colab": {
          "base_uri": "https://localhost:8080/"
        },
        "id": "RwmzRoioZIrg",
        "outputId": "ea17218b-a6ce-41ea-fa9d-96d33f8329f9"
      },
      "execution_count": 130,
      "outputs": [
        {
          "output_type": "stream",
          "name": "stdout",
          "text": [
            "           AOV\n",
            "shop_id       \n",
            "1        158.0\n",
            "2         94.0\n",
            "3        148.0\n",
            "4        128.0\n",
            "5        142.0\n",
            "...        ...\n",
            "96       153.0\n",
            "97       162.0\n",
            "98       133.0\n",
            "99       195.0\n",
            "100      111.0\n",
            "\n",
            "[100 rows x 1 columns]\n"
          ]
        }
      ]
    },
    {
      "cell_type": "code",
      "source": [
        "from pathlib import Path  \n",
        "filepath = Path('/content/drive/My Drive/out.csv')  \n",
        "filepath.parent.mkdir(parents=True, exist_ok=True)  \n",
        "new_AOV.to_csv(filepath)  "
      ],
      "metadata": {
        "id": "TwDts5x35sfJ"
      },
      "execution_count": 132,
      "outputs": []
    },
    {
      "cell_type": "code",
      "source": [
        "%%shell\n",
        "jupyter nbconvert --to html '/content/TD3.ipynb'"
      ],
      "metadata": {
        "colab": {
          "base_uri": "https://localhost:8080/",
          "height": 1000
        },
        "id": "-zoiQXP-Dy0U",
        "outputId": "a4146225-df66-4d0f-91c9-aa0015fbe44d"
      },
      "execution_count": 133,
      "outputs": [
        {
          "output_type": "stream",
          "name": "stdout",
          "text": [
            "[NbConvertApp] WARNING | pattern '/content/TD3.ipynb' matched no files\n",
            "This application is used to convert notebook files (*.ipynb)\n",
            "        to various other formats.\n",
            "\n",
            "        WARNING: THE COMMANDLINE INTERFACE MAY CHANGE IN FUTURE RELEASES.\n",
            "\n",
            "Options\n",
            "=======\n",
            "The options below are convenience aliases to configurable class-options,\n",
            "as listed in the \"Equivalent to\" description-line of the aliases.\n",
            "To see all configurable class-options for some <cmd>, use:\n",
            "    <cmd> --help-all\n",
            "\n",
            "--debug\n",
            "    set log level to logging.DEBUG (maximize logging output)\n",
            "    Equivalent to: [--Application.log_level=10]\n",
            "--show-config\n",
            "    Show the application's configuration (human-readable format)\n",
            "    Equivalent to: [--Application.show_config=True]\n",
            "--show-config-json\n",
            "    Show the application's configuration (json format)\n",
            "    Equivalent to: [--Application.show_config_json=True]\n",
            "--generate-config\n",
            "    generate default config file\n",
            "    Equivalent to: [--JupyterApp.generate_config=True]\n",
            "-y\n",
            "    Answer yes to any questions instead of prompting.\n",
            "    Equivalent to: [--JupyterApp.answer_yes=True]\n",
            "--execute\n",
            "    Execute the notebook prior to export.\n",
            "    Equivalent to: [--ExecutePreprocessor.enabled=True]\n",
            "--allow-errors\n",
            "    Continue notebook execution even if one of the cells throws an error and include the error message in the cell output (the default behaviour is to abort conversion). This flag is only relevant if '--execute' was specified, too.\n",
            "    Equivalent to: [--ExecutePreprocessor.allow_errors=True]\n",
            "--stdin\n",
            "    read a single notebook file from stdin. Write the resulting notebook with default basename 'notebook.*'\n",
            "    Equivalent to: [--NbConvertApp.from_stdin=True]\n",
            "--stdout\n",
            "    Write notebook output to stdout instead of files.\n",
            "    Equivalent to: [--NbConvertApp.writer_class=StdoutWriter]\n",
            "--inplace\n",
            "    Run nbconvert in place, overwriting the existing notebook (only \n",
            "            relevant when converting to notebook format)\n",
            "    Equivalent to: [--NbConvertApp.use_output_suffix=False --NbConvertApp.export_format=notebook --FilesWriter.build_directory=]\n",
            "--clear-output\n",
            "    Clear output of current file and save in place, \n",
            "            overwriting the existing notebook.\n",
            "    Equivalent to: [--NbConvertApp.use_output_suffix=False --NbConvertApp.export_format=notebook --FilesWriter.build_directory= --ClearOutputPreprocessor.enabled=True]\n",
            "--no-prompt\n",
            "    Exclude input and output prompts from converted document.\n",
            "    Equivalent to: [--TemplateExporter.exclude_input_prompt=True --TemplateExporter.exclude_output_prompt=True]\n",
            "--no-input\n",
            "    Exclude input cells and output prompts from converted document. \n",
            "            This mode is ideal for generating code-free reports.\n",
            "    Equivalent to: [--TemplateExporter.exclude_output_prompt=True --TemplateExporter.exclude_input=True]\n",
            "--log-level=<Enum>\n",
            "    Set the log level by value or name.\n",
            "    Choices: any of [0, 10, 20, 30, 40, 50, 'DEBUG', 'INFO', 'WARN', 'ERROR', 'CRITICAL']\n",
            "    Default: 30\n",
            "    Equivalent to: [--Application.log_level]\n",
            "--config=<Unicode>\n",
            "    Full path of a config file.\n",
            "    Default: ''\n",
            "    Equivalent to: [--JupyterApp.config_file]\n",
            "--to=<Unicode>\n",
            "    The export format to be used, either one of the built-in formats\n",
            "            ['asciidoc', 'custom', 'html', 'latex', 'markdown', 'notebook', 'pdf', 'python', 'rst', 'script', 'slides']\n",
            "            or a dotted object name that represents the import path for an\n",
            "            `Exporter` class\n",
            "    Default: 'html'\n",
            "    Equivalent to: [--NbConvertApp.export_format]\n",
            "--template=<Unicode>\n",
            "    Name of the template file to use\n",
            "    Default: ''\n",
            "    Equivalent to: [--TemplateExporter.template_file]\n",
            "--writer=<DottedObjectName>\n",
            "    Writer class used to write the \n",
            "                                        results of the conversion\n",
            "    Default: 'FilesWriter'\n",
            "    Equivalent to: [--NbConvertApp.writer_class]\n",
            "--post=<DottedOrNone>\n",
            "    PostProcessor class used to write the\n",
            "                                        results of the conversion\n",
            "    Default: ''\n",
            "    Equivalent to: [--NbConvertApp.postprocessor_class]\n",
            "--output=<Unicode>\n",
            "    overwrite base name use for output files.\n",
            "                can only be used when converting one notebook at a time.\n",
            "    Default: ''\n",
            "    Equivalent to: [--NbConvertApp.output_base]\n",
            "--output-dir=<Unicode>\n",
            "    Directory to write output(s) to. Defaults\n",
            "                                  to output to the directory of each notebook. To recover\n",
            "                                  previous default behaviour (outputting to the current \n",
            "                                  working directory) use . as the flag value.\n",
            "    Default: ''\n",
            "    Equivalent to: [--FilesWriter.build_directory]\n",
            "--reveal-prefix=<Unicode>\n",
            "    The URL prefix for reveal.js (version 3.x).\n",
            "            This defaults to the reveal CDN, but can be any url pointing to a copy \n",
            "            of reveal.js. \n",
            "            For speaker notes to work, this must be a relative path to a local \n",
            "            copy of reveal.js: e.g., \"reveal.js\".\n",
            "            If a relative path is given, it must be a subdirectory of the\n",
            "            current directory (from which the server is run).\n",
            "            See the usage documentation\n",
            "            (https://nbconvert.readthedocs.io/en/latest/usage.html#reveal-js-html-slideshow)\n",
            "            for more details.\n",
            "    Default: ''\n",
            "    Equivalent to: [--SlidesExporter.reveal_url_prefix]\n",
            "--nbformat=<Enum>\n",
            "    The nbformat version to write.\n",
            "            Use this to downgrade notebooks.\n",
            "    Choices: any of [1, 2, 3, 4]\n",
            "    Default: 4\n",
            "    Equivalent to: [--NotebookExporter.nbformat_version]\n",
            "\n",
            "Examples\n",
            "--------\n",
            "\n",
            "    The simplest way to use nbconvert is\n",
            "\n",
            "            > jupyter nbconvert mynotebook.ipynb\n",
            "\n",
            "            which will convert mynotebook.ipynb to the default format (probably HTML).\n",
            "\n",
            "            You can specify the export format with `--to`.\n",
            "            Options include ['asciidoc', 'custom', 'html', 'latex', 'markdown', 'notebook', 'pdf', 'python', 'rst', 'script', 'slides'].\n",
            "\n",
            "            > jupyter nbconvert --to latex mynotebook.ipynb\n",
            "\n",
            "            Both HTML and LaTeX support multiple output templates. LaTeX includes\n",
            "            'base', 'article' and 'report'.  HTML includes 'basic' and 'full'. You\n",
            "            can specify the flavor of the format used.\n",
            "\n",
            "            > jupyter nbconvert --to html --template basic mynotebook.ipynb\n",
            "\n",
            "            You can also pipe the output to stdout, rather than a file\n",
            "\n",
            "            > jupyter nbconvert mynotebook.ipynb --stdout\n",
            "\n",
            "            PDF is generated via latex\n",
            "\n",
            "            > jupyter nbconvert mynotebook.ipynb --to pdf\n",
            "\n",
            "            You can get (and serve) a Reveal.js-powered slideshow\n",
            "\n",
            "            > jupyter nbconvert myslides.ipynb --to slides --post serve\n",
            "\n",
            "            Multiple notebooks can be given at the command line in a couple of \n",
            "            different ways:\n",
            "\n",
            "            > jupyter nbconvert notebook*.ipynb\n",
            "            > jupyter nbconvert notebook1.ipynb notebook2.ipynb\n",
            "\n",
            "            or you can specify the notebooks list in a config file, containing::\n",
            "\n",
            "                c.NbConvertApp.notebooks = [\"my_notebook.ipynb\"]\n",
            "\n",
            "            > jupyter nbconvert --config mycfg.py\n",
            "\n",
            "To see all available configurables, use `--help-all`.\n",
            "\n"
          ]
        },
        {
          "output_type": "error",
          "ename": "CalledProcessError",
          "evalue": "ignored",
          "traceback": [
            "\u001b[0;31m---------------------------------------------------------------------------\u001b[0m",
            "\u001b[0;31mCalledProcessError\u001b[0m                        Traceback (most recent call last)",
            "\u001b[0;32m<ipython-input-133-29069506109a>\u001b[0m in \u001b[0;36m<module>\u001b[0;34m()\u001b[0m\n\u001b[0;32m----> 1\u001b[0;31m \u001b[0mget_ipython\u001b[0m\u001b[0;34m(\u001b[0m\u001b[0;34m)\u001b[0m\u001b[0;34m.\u001b[0m\u001b[0mrun_cell_magic\u001b[0m\u001b[0;34m(\u001b[0m\u001b[0;34m'shell'\u001b[0m\u001b[0;34m,\u001b[0m \u001b[0;34m''\u001b[0m\u001b[0;34m,\u001b[0m \u001b[0;34m\"jupyter nbconvert --to html '/content/TD3.ipynb'\"\u001b[0m\u001b[0;34m)\u001b[0m\u001b[0;34m\u001b[0m\u001b[0;34m\u001b[0m\u001b[0m\n\u001b[0m",
            "\u001b[0;32m/usr/local/lib/python3.7/dist-packages/IPython/core/interactiveshell.py\u001b[0m in \u001b[0;36mrun_cell_magic\u001b[0;34m(self, magic_name, line, cell)\u001b[0m\n\u001b[1;32m   2115\u001b[0m             \u001b[0mmagic_arg_s\u001b[0m \u001b[0;34m=\u001b[0m \u001b[0mself\u001b[0m\u001b[0;34m.\u001b[0m\u001b[0mvar_expand\u001b[0m\u001b[0;34m(\u001b[0m\u001b[0mline\u001b[0m\u001b[0;34m,\u001b[0m \u001b[0mstack_depth\u001b[0m\u001b[0;34m)\u001b[0m\u001b[0;34m\u001b[0m\u001b[0;34m\u001b[0m\u001b[0m\n\u001b[1;32m   2116\u001b[0m             \u001b[0;32mwith\u001b[0m \u001b[0mself\u001b[0m\u001b[0;34m.\u001b[0m\u001b[0mbuiltin_trap\u001b[0m\u001b[0;34m:\u001b[0m\u001b[0;34m\u001b[0m\u001b[0;34m\u001b[0m\u001b[0m\n\u001b[0;32m-> 2117\u001b[0;31m                 \u001b[0mresult\u001b[0m \u001b[0;34m=\u001b[0m \u001b[0mfn\u001b[0m\u001b[0;34m(\u001b[0m\u001b[0mmagic_arg_s\u001b[0m\u001b[0;34m,\u001b[0m \u001b[0mcell\u001b[0m\u001b[0;34m)\u001b[0m\u001b[0;34m\u001b[0m\u001b[0;34m\u001b[0m\u001b[0m\n\u001b[0m\u001b[1;32m   2118\u001b[0m             \u001b[0;32mreturn\u001b[0m \u001b[0mresult\u001b[0m\u001b[0;34m\u001b[0m\u001b[0;34m\u001b[0m\u001b[0m\n\u001b[1;32m   2119\u001b[0m \u001b[0;34m\u001b[0m\u001b[0m\n",
            "\u001b[0;32m/usr/local/lib/python3.7/dist-packages/google/colab/_system_commands.py\u001b[0m in \u001b[0;36m_shell_cell_magic\u001b[0;34m(args, cmd)\u001b[0m\n\u001b[1;32m    111\u001b[0m   \u001b[0mresult\u001b[0m \u001b[0;34m=\u001b[0m \u001b[0m_run_command\u001b[0m\u001b[0;34m(\u001b[0m\u001b[0mcmd\u001b[0m\u001b[0;34m,\u001b[0m \u001b[0mclear_streamed_output\u001b[0m\u001b[0;34m=\u001b[0m\u001b[0;32mFalse\u001b[0m\u001b[0;34m)\u001b[0m\u001b[0;34m\u001b[0m\u001b[0;34m\u001b[0m\u001b[0m\n\u001b[1;32m    112\u001b[0m   \u001b[0;32mif\u001b[0m \u001b[0;32mnot\u001b[0m \u001b[0mparsed_args\u001b[0m\u001b[0;34m.\u001b[0m\u001b[0mignore_errors\u001b[0m\u001b[0;34m:\u001b[0m\u001b[0;34m\u001b[0m\u001b[0;34m\u001b[0m\u001b[0m\n\u001b[0;32m--> 113\u001b[0;31m     \u001b[0mresult\u001b[0m\u001b[0;34m.\u001b[0m\u001b[0mcheck_returncode\u001b[0m\u001b[0;34m(\u001b[0m\u001b[0;34m)\u001b[0m\u001b[0;34m\u001b[0m\u001b[0;34m\u001b[0m\u001b[0m\n\u001b[0m\u001b[1;32m    114\u001b[0m   \u001b[0;32mreturn\u001b[0m \u001b[0mresult\u001b[0m\u001b[0;34m\u001b[0m\u001b[0;34m\u001b[0m\u001b[0m\n\u001b[1;32m    115\u001b[0m \u001b[0;34m\u001b[0m\u001b[0m\n",
            "\u001b[0;32m/usr/local/lib/python3.7/dist-packages/google/colab/_system_commands.py\u001b[0m in \u001b[0;36mcheck_returncode\u001b[0;34m(self)\u001b[0m\n\u001b[1;32m    137\u001b[0m     \u001b[0;32mif\u001b[0m \u001b[0mself\u001b[0m\u001b[0;34m.\u001b[0m\u001b[0mreturncode\u001b[0m\u001b[0;34m:\u001b[0m\u001b[0;34m\u001b[0m\u001b[0;34m\u001b[0m\u001b[0m\n\u001b[1;32m    138\u001b[0m       raise subprocess.CalledProcessError(\n\u001b[0;32m--> 139\u001b[0;31m           returncode=self.returncode, cmd=self.args, output=self.output)\n\u001b[0m\u001b[1;32m    140\u001b[0m \u001b[0;34m\u001b[0m\u001b[0m\n\u001b[1;32m    141\u001b[0m   \u001b[0;32mdef\u001b[0m \u001b[0m_repr_pretty_\u001b[0m\u001b[0;34m(\u001b[0m\u001b[0mself\u001b[0m\u001b[0;34m,\u001b[0m \u001b[0mp\u001b[0m\u001b[0;34m,\u001b[0m \u001b[0mcycle\u001b[0m\u001b[0;34m)\u001b[0m\u001b[0;34m:\u001b[0m  \u001b[0;31m# pylint:disable=unused-argument\u001b[0m\u001b[0;34m\u001b[0m\u001b[0;34m\u001b[0m\u001b[0m\n",
            "\u001b[0;31mCalledProcessError\u001b[0m: Command 'jupyter nbconvert --to html '/content/TD3.ipynb'' returned non-zero exit status 255."
          ]
        }
      ]
    }
  ]
}